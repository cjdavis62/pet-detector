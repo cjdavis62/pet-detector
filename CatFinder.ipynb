{
 "cells": [
  {
   "cell_type": "markdown",
   "id": "425d5c51-0a92-4faa-b5ac-5f380bcf2908",
   "metadata": {},
   "source": [
    "# How to use this notebook"
   ]
  },
  {
   "cell_type": "markdown",
   "id": "56f70528-aac4-4a3f-9e38-2722f22caba9",
   "metadata": {},
   "source": [
    "1. Click the `>>` symbol above this line\n",
    "1. Click on the `Upload` text in the box that appears\n",
    "1. Select an image of cats\n",
    "    1. This notebook will tell you how many cute cats there are!\n",
    "    1. And where they are!\n",
    "1. Repeat as many times as you like!"
   ]
  },
  {
   "cell_type": "code",
   "execution_count": 1,
   "id": "5d53d481-0d43-4174-a65d-bcb7cda21dc4",
   "metadata": {
    "execution": {
     "iopub.execute_input": "2025-02-24T03:47:50.516314Z",
     "iopub.status.busy": "2025-02-24T03:47:50.515316Z",
     "iopub.status.idle": "2025-02-24T03:47:53.751789Z",
     "shell.execute_reply": "2025-02-24T03:47:53.750813Z",
     "shell.execute_reply.started": "2025-02-24T03:47:50.516314Z"
    }
   },
   "outputs": [],
   "source": [
    "from find_cats import *"
   ]
  },
  {
   "cell_type": "code",
   "execution_count": 2,
   "id": "8a391566-fc24-4cf3-9e33-2e726bf1fb0f",
   "metadata": {
    "execution": {
     "iopub.execute_input": "2025-02-24T03:47:53.755780Z",
     "iopub.status.busy": "2025-02-24T03:47:53.754782Z",
     "iopub.status.idle": "2025-02-24T03:47:53.766749Z",
     "shell.execute_reply": "2025-02-24T03:47:53.765752Z",
     "shell.execute_reply.started": "2025-02-24T03:47:53.754782Z"
    }
   },
   "outputs": [
    {
     "data": {
      "application/vnd.jupyter.widget-view+json": {
       "model_id": "5dee6c1cff8645769e3cca49947ea850",
       "version_major": 2,
       "version_minor": 0
      },
      "text/plain": [
       "FileUpload(value=(), accept='image/*', description='Upload')"
      ]
     },
     "metadata": {},
     "output_type": "display_data"
    },
    {
     "data": {
      "application/vnd.jupyter.widget-view+json": {
       "model_id": "85634ec3eb08424089e7be434c038b4b",
       "version_major": 2,
       "version_minor": 0
      },
      "text/plain": [
       "Output()"
      ]
     },
     "metadata": {},
     "output_type": "display_data"
    }
   ],
   "source": [
    "display(uploader, output)"
   ]
  },
  {
   "cell_type": "code",
   "execution_count": null,
   "id": "aceba2fe-8bf8-4bc3-a196-f517a29a200c",
   "metadata": {},
   "outputs": [],
   "source": []
  },
  {
   "cell_type": "code",
   "execution_count": null,
   "id": "0a8255ff-38a4-4978-adff-d6052bba74b6",
   "metadata": {},
   "outputs": [],
   "source": []
  }
 ],
 "metadata": {
  "kernelspec": {
   "display_name": "Python 3 (ipykernel)",
   "language": "python",
   "name": "python3"
  },
  "language_info": {
   "codemirror_mode": {
    "name": "ipython",
    "version": 3
   },
   "file_extension": ".py",
   "mimetype": "text/x-python",
   "name": "python",
   "nbconvert_exporter": "python",
   "pygments_lexer": "ipython3",
   "version": "3.9.19"
  }
 },
 "nbformat": 4,
 "nbformat_minor": 5
}
